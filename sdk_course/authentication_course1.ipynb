{
  "nbformat": 4,
  "nbformat_minor": 0,
  "metadata": {
    "colab": {
      "name": "SDK_Course_1.ipynb",
      "provenance": [],
      "collapsed_sections": [],
      "toc_visible": true
    },
    "kernelspec": {
      "name": "python3",
      "display_name": "Python 3"
    }
  },
  "cells": [
    {
      "cell_type": "markdown",
      "metadata": {
        "id": "zUW00H8QAiVI"
      },
      "source": [
        "# How to use\n",
        "\n",
        "- Click `File > Save a copy in Drive` if you want to make edits and have them be saved - you can then develop in that notebook which will be saved to your own notebook!"
      ]
    },
    {
      "cell_type": "markdown",
      "metadata": {
        "id": "vD4J-4iDGw8O"
      },
      "source": [
        "# Getting Started with the SDK\n",
        "\n",
        "---\n",
        "\n",
        "## Part 1 - Setting Up Enviornment\n",
        "\n"
      ]
    },
    {
      "cell_type": "markdown",
      "metadata": {
        "id": "-quXke3-G0zX"
      },
      "source": [
        "1. **Install the Looker SDK in your development environment**\n",
        "  - Google Colab is going to have some pre-installed more heavily used packages run `!pip freeze` in the code block below to check out the available packages\n",
        "  - We'll see the Looker SDK isn't on this list so let's install that. Our [Python SDK](https://pypi.org/project/looker-sdk/) docs to see how we can do this ([hint](https://stackoverflow.com/questions/51342408/how-do-i-install-python-packages-in-googles-colab): `pip`)"
      ]
    },
    {
      "cell_type": "code",
      "metadata": {
        "id": "B7iRtDysGxSV"
      },
      "source": [
        "# 1a. run !pip freeze\n",
        "\n",
        "# 1b. install Looker Python SDK\n"
      ],
      "execution_count": null,
      "outputs": []
    },
    {
      "cell_type": "markdown",
      "metadata": {
        "id": "48T-mryJG4lD"
      },
      "source": [
        "2. **Import Packages**\n",
        "  - importing packages in Python (or any programming language) functions in the same way as in Looker when using the `include` parameter. When we *include* views in our model file, we're given access to those field(s) and are able to reference them. Same concept applies here - when we've imported a package, we're giving access to all the functions available in that package\n",
        "  - hint: check out the [Basic Usage](https://pypi.org/project/looker-sdk/) section to see how this might look like"
      ]
    },
    {
      "cell_type": "code",
      "metadata": {
        "id": "OQyFlJZyG8OR"
      },
      "source": [
        "#2. import packages\n"
      ],
      "execution_count": null,
      "outputs": []
    },
    {
      "cell_type": "markdown",
      "metadata": {
        "id": "pcJjik6ZHAOz"
      },
      "source": [
        "3. **Authenticate** - there are 2 ways to authenticate using the SDK. Authenticating is the process of letting the SDK know which API3 client_id and client_secret we're going to be using (similar to how we input them via the UI)\n",
        "  - authenticate using one of the methods:\n",
        "    - Enviornment Variable. Info on variables available + descriptions listed [here](https://github.com/looker-open-source/sdk-codegen/blob/master/README.md#environment-variable-configuration). [hint](https://stackoverflow.com/questions/53306150/setting-environment-variables-in-google-colab) on how to set up env variables in Google Colab\n",
        "    - `.ini` file. Example of what our file might look like in the [Configuring the SDK](https://pypi.org/project/looker-sdk/) section. **hint:** check out [this](https://colab.sandbox.google.com/notebooks/io.ipynb#scrollTo=eikfzi8ZT_rW) notebook to see how we can upload files locally and/or mount our Google Drive to pull in our `ini` file\n",
        "      - note: how customers set up their development env might not be 1 for 1 but the general idea is the same -- allowing Looker's SDK to read a file (through `ini` file) or being able to pull from our local computer's environtal variables)\n",
        "\n",
        "4. **Initialize SDK**\n",
        "  - if we've set up Step #3 properly we should be able to initialize our variables\n",
        "    - initialize using **3.1** and **4.0** version of our SDK (hint: same way as we do in the example script in our readme)\n",
        "    - call the ME function after we've initilized to confirm things are set up properly\n",
        "\n",
        "5. **Optional**: authenticate using the other method (ie. `ini` if you used env variables)\n",
        "\n",
        "\n"
      ]
    },
    {
      "cell_type": "code",
      "metadata": {
        "id": "ZMRBlQuVG_ZA"
      },
      "source": [
        "#4. initialize sdk\n"
      ],
      "execution_count": null,
      "outputs": []
    },
    {
      "cell_type": "code",
      "metadata": {
        "id": "w17nI0gkHH4t"
      },
      "source": [
        "#5. optional\n"
      ],
      "execution_count": null,
      "outputs": []
    },
    {
      "cell_type": "markdown",
      "metadata": {
        "id": "3GYd8H5FHNnj"
      },
      "source": [
        "  ## Questions\n",
        "\n",
        "  1. If I have both enviornmental variables and an `.ini` file set up, which credentials will be used when I authenticate into the SDK?\n",
        "  2. `include` in lookML is similiar to ______________ in python\n",
        "  3. If we have multiple SDK profiles defined in our `.ini` file, how can we initialize our call to refer to a specific one? \n",
        "\n",
        "## Answers\n",
        "\n",
        "  1. \n",
        "  2. \n",
        "  3. \n"
      ]
    },
    {
      "cell_type": "markdown",
      "metadata": {
        "id": "NlLKYXO0HtUJ"
      },
      "source": [
        "## Pre-context\n",
        "\n",
        "1. Most Looker SDK calls will return an object. Within Python, we're able to store these objects as variables to refer to them in the future (similar to how constants work in lookML). Breaking down the example call below:\n",
        "  - `sdk`: an **variable/object** returned from from initializing our SDK (this object gives us access to all the fuctionality and capabilites our SDK has to offer\n",
        "  - `.me()`: a **function** available within the SDK object. All the available functions can be found [here](https://github.com/looker-open-source/sdk-codegen/blob/master/python/looker_sdk/sdk/api31/methods.py) \n",
        "    - note: these functions the endpoints we hit when using the interactive API docs/sending a curl request\n",
        "  - `my_info =`: this is the **variable/object** that we're storing out ME function call response into. This variable will have all the info associated with the user that authenticated\n",
        "  - `.first_name`: is an **attribute** available from the response of our API call/our response object. We're able to access these attributes using this syntax similar to how we access/refer to columns in a table when doing `${TABLE}.field`"
      ]
    },
    {
      "cell_type": "code",
      "metadata": {
        "id": "WKgIqfPIHtvN"
      },
      "source": [
        "my_info = sdk.me()\n",
        "my_info.first_name"
      ],
      "execution_count": null,
      "outputs": []
    },
    {
      "cell_type": "markdown",
      "metadata": {
        "id": "5QXs_x9SH6Pt"
      },
      "source": [
        "## Module 1 - Authentication\n",
        "\n",
        "All examples highlighted will be using the [Looker Python SDK](https://pypi.org/project/looker-sdk/) & [Authentication Docs](https://docs.looker.com/reference/api-and-integration/api-reference/v3.1/api-auth) \n",
        "\n",
        "\n",
        "Before starting, it may be good to check out [this](https://www.dataquest.io/blog/python-api-tutorial/) article, which highlights at a high level how to make an API call in python\n",
        "\n",
        "\n",
        "### Excercises\n",
        "\n",
        "1. Authenticate using of the SDK (either version) as your user and return the following info (**hint**: check out the [user class](https://github.com/looker-open-source/sdk-codegen/blob/7d5339a562cf9e4ede6591582f2d8347ed94330d/python/looker_sdk/sdk/api31/models.py#L8743) to see the possible attributes available) from our [me](https://github.com/looker-open-source/sdk-codegen/blob/master/python/looker_sdk/sdk/api31/methods.py#L8068) function call:\n",
        "  - User ID \n",
        "  - Last Name\n",
        "  - Email - store in a variable called **my_email**\n",
        "  - Personal Folder ID - store in a variable called **my_folder** and print the outputs\n"
      ]
    },
    {
      "cell_type": "code",
      "metadata": {
        "id": "voayBa_FH6p3"
      },
      "source": [
        "# User ID\n"
      ],
      "execution_count": null,
      "outputs": []
    },
    {
      "cell_type": "code",
      "metadata": {
        "id": "-ZpmWo0XIIfI"
      },
      "source": [
        "# First and Last name\n"
      ],
      "execution_count": null,
      "outputs": []
    },
    {
      "cell_type": "code",
      "metadata": {
        "id": "24FvBUcYIImi"
      },
      "source": [
        "# Email\n"
      ],
      "execution_count": null,
      "outputs": []
    },
    {
      "cell_type": "code",
      "metadata": {
        "id": "jFB_GpvTIIsI"
      },
      "source": [
        "# Personal Folder ID\n"
      ],
      "execution_count": null,
      "outputs": []
    },
    {
      "cell_type": "markdown",
      "metadata": {
        "id": "r0pBLvi1INKu"
      },
      "source": [
        "2. Log in as another user and return the following information (**hint**: store the user into a variable):\n",
        "  - Role\n",
        "  - Group"
      ]
    },
    {
      "cell_type": "code",
      "metadata": {
        "id": "4wCTxaccIIx-"
      },
      "source": [
        "# Role(s)\n"
      ],
      "execution_count": null,
      "outputs": []
    },
    {
      "cell_type": "code",
      "metadata": {
        "id": "Ee4cqO13ISWW"
      },
      "source": [
        "# Group(s)\n"
      ],
      "execution_count": null,
      "outputs": []
    },
    {
      "cell_type": "markdown",
      "metadata": {
        "id": "zKuSpnczIVSo"
      },
      "source": [
        "## Questions\n",
        "1. List the version(s) of the API we have at Looker\n",
        "2. How can you find the version of the SDK you're using?\n",
        "3. **(T/F)** It's not possible to have multiple sessions (ie. multiple users) in the same script/peice of code\n",
        "\n",
        "\n",
        "## Answers\n",
        "1. \n",
        "2. \n",
        "3. "
      ]
    },
    {
      "cell_type": "markdown",
      "metadata": {
        "id": "HKjP26KC4pBS"
      },
      "source": [
        "# Congrats! \n",
        "\n",
        "You've now successfully set up a dev/test environment for the SDK to start coding and test all the crazy stuff our customers do! \n",
        "\n",
        "**Please save your notebook into a folder on your Google Drive and share that folder to `@Alick-Zhang`**\n",
        "\n",
        "![Alt Text](https://media.giphy.com/media/g9582DNuQppxC/giphy.gif)"
      ]
    }
  ]
}