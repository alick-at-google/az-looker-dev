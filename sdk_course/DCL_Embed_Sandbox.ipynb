{
  "nbformat": 4,
  "nbformat_minor": 0,
  "metadata": {
    "colab": {
      "name": "DCL_Embed_Sandbox.ipynb",
      "provenance": [],
      "collapsed_sections": [],
      "toc_visible": true
    },
    "kernelspec": {
      "display_name": "Python 3",
      "name": "python3"
    }
  },
  "cells": [
    {
      "cell_type": "code",
      "metadata": {
        "colab": {
          "base_uri": "https://localhost:8080/"
        },
        "id": "YBHTuKxL-Tpk",
        "outputId": "cc542d14-3fa4-4cf0-d05c-127147f2bf9d"
      },
      "source": [
        "!pip install looker_sdk\n",
        "import os\n",
        "import warnings; warnings.simplefilter('ignore')\n",
        "import pprint\n",
        "import looker_sdk\n",
        "from looker_sdk import models\n",
        "from bs4 import BeautifulSoup"
      ],
      "execution_count": null,
      "outputs": [
        {
          "output_type": "stream",
          "text": [
            "Collecting looker_sdk\n",
            "\u001b[?25l  Downloading https://files.pythonhosted.org/packages/64/f2/234af9817cba0dfd726c3f597a325a553b2968cc7ac0296d7631db9c968e/looker_sdk-0.1.3b20-py3-none-any.whl (313kB)\n",
            "\r\u001b[K     |█                               | 10kB 16.1MB/s eta 0:00:01\r\u001b[K     |██                              | 20kB 18.6MB/s eta 0:00:01\r\u001b[K     |███▏                            | 30kB 12.3MB/s eta 0:00:01\r\u001b[K     |████▏                           | 40kB 10.4MB/s eta 0:00:01\r\u001b[K     |█████▎                          | 51kB 4.9MB/s eta 0:00:01\r\u001b[K     |██████▎                         | 61kB 5.5MB/s eta 0:00:01\r\u001b[K     |███████▎                        | 71kB 5.7MB/s eta 0:00:01\r\u001b[K     |████████▍                       | 81kB 6.1MB/s eta 0:00:01\r\u001b[K     |█████████▍                      | 92kB 6.2MB/s eta 0:00:01\r\u001b[K     |██████████▌                     | 102kB 6.8MB/s eta 0:00:01\r\u001b[K     |███████████▌                    | 112kB 6.8MB/s eta 0:00:01\r\u001b[K     |████████████▋                   | 122kB 6.8MB/s eta 0:00:01\r\u001b[K     |█████████████▋                  | 133kB 6.8MB/s eta 0:00:01\r\u001b[K     |██████████████▋                 | 143kB 6.8MB/s eta 0:00:01\r\u001b[K     |███████████████▊                | 153kB 6.8MB/s eta 0:00:01\r\u001b[K     |████████████████▊               | 163kB 6.8MB/s eta 0:00:01\r\u001b[K     |█████████████████▉              | 174kB 6.8MB/s eta 0:00:01\r\u001b[K     |██████████████████▉             | 184kB 6.8MB/s eta 0:00:01\r\u001b[K     |███████████████████▉            | 194kB 6.8MB/s eta 0:00:01\r\u001b[K     |█████████████████████           | 204kB 6.8MB/s eta 0:00:01\r\u001b[K     |██████████████████████          | 215kB 6.8MB/s eta 0:00:01\r\u001b[K     |███████████████████████         | 225kB 6.8MB/s eta 0:00:01\r\u001b[K     |████████████████████████        | 235kB 6.8MB/s eta 0:00:01\r\u001b[K     |█████████████████████████▏      | 245kB 6.8MB/s eta 0:00:01\r\u001b[K     |██████████████████████████▏     | 256kB 6.8MB/s eta 0:00:01\r\u001b[K     |███████████████████████████▏    | 266kB 6.8MB/s eta 0:00:01\r\u001b[K     |████████████████████████████▎   | 276kB 6.8MB/s eta 0:00:01\r\u001b[K     |█████████████████████████████▎  | 286kB 6.8MB/s eta 0:00:01\r\u001b[K     |██████████████████████████████▍ | 296kB 6.8MB/s eta 0:00:01\r\u001b[K     |███████████████████████████████▍| 307kB 6.8MB/s eta 0:00:01\r\u001b[K     |████████████████████████████████| 317kB 6.8MB/s \n",
            "\u001b[?25hRequirement already satisfied: typing-extensions; python_version < \"3.8\" in /usr/local/lib/python3.6/dist-packages (from looker_sdk) (3.7.4.3)\n",
            "Requirement already satisfied: python-dateutil; python_version < \"3.7\" in /usr/local/lib/python3.6/dist-packages (from looker_sdk) (2.8.1)\n",
            "Requirement already satisfied: attrs>=18.2.0; python_version < \"3.7\" in /usr/local/lib/python3.6/dist-packages (from looker_sdk) (20.2.0)\n",
            "Collecting cattrs<1.1.0; python_version < \"3.7\"\n",
            "  Downloading https://files.pythonhosted.org/packages/17/5b/6afbdaeb066ecf8ca28d85851048103ac80bb169491a54a14bd39823c422/cattrs-1.0.0-py2.py3-none-any.whl\n",
            "Requirement already satisfied: requests>=2.22 in /usr/local/lib/python3.6/dist-packages (from looker_sdk) (2.23.0)\n",
            "Requirement already satisfied: six>=1.5 in /usr/local/lib/python3.6/dist-packages (from python-dateutil; python_version < \"3.7\"->looker_sdk) (1.15.0)\n",
            "Requirement already satisfied: chardet<4,>=3.0.2 in /usr/local/lib/python3.6/dist-packages (from requests>=2.22->looker_sdk) (3.0.4)\n",
            "Requirement already satisfied: idna<3,>=2.5 in /usr/local/lib/python3.6/dist-packages (from requests>=2.22->looker_sdk) (2.10)\n",
            "Requirement already satisfied: urllib3!=1.25.0,!=1.25.1,<1.26,>=1.21.1 in /usr/local/lib/python3.6/dist-packages (from requests>=2.22->looker_sdk) (1.24.3)\n",
            "Requirement already satisfied: certifi>=2017.4.17 in /usr/local/lib/python3.6/dist-packages (from requests>=2.22->looker_sdk) (2020.6.20)\n",
            "Installing collected packages: cattrs, looker-sdk\n",
            "Successfully installed cattrs-1.0.0 looker-sdk-0.1.3b20\n"
          ],
          "name": "stdout"
        }
      ]
    },
    {
      "cell_type": "markdown",
      "metadata": {
        "id": "fnjKmy_i-eho"
      },
      "source": [
        "# Sandbox Notebook to test Embed/SDK related issues\n",
        "\n",
        "**How to use**\n",
        "1. Click `File > Save a copy in Drive` if you want to make edits and have them be saved\n",
        "  - OR click `File > Open in Playground Mode` which will open a staging env to make changes that **won't** save\n",
        "\n",
        "2. Set your Credentials\n",
        "  - Create a `.ini` file\n",
        "    - example of how this may look found in this [guru](https://app.getguru.com/card/iynM9zLT/The-How-To-on-initializing-the-SDK-with-different-profiles-in-your-ini-file)\n",
        "  - Go to your Google Drive and create a folder called `Colab Notebooks`\n",
        "  - Save your `.ini` file into this folder\n",
        "\n",
        "\n"
      ]
    },
    {
      "cell_type": "code",
      "metadata": {
        "colab": {
          "background_save": true,
          "base_uri": "https://localhost:8080/"
        },
        "id": "q-7Q2vCN3I4O",
        "outputId": "c43a12c7-1ba2-4a2a-9e85-b9027fee0801"
      },
      "source": [
        "# MOUNT\n",
        "from google.colab import drive\n",
        "drive.mount('/content/drive')\n",
        "\n",
        "# # UNMOUNT\n",
        "# from google.colab import drive\n",
        "# drive.flush_and_unmount()"
      ],
      "execution_count": null,
      "outputs": [
        {
          "output_type": "stream",
          "text": [
            "Mounted at /content/drive\n"
          ],
          "name": "stdout"
        }
      ]
    },
    {
      "cell_type": "markdown",
      "metadata": {
        "id": "7YhLsOAP-8fH"
      },
      "source": [
        "# Embed with SDK Template\n",
        "\n",
        "\n",
        "1. Update `url` parameter with your own URL\n",
        "  - note this is where our `embed_domain` and/or `sdk=2` goes \n",
        "  - this would be where we can specify and pass filter values to our embedded content\n",
        "    - ie. `url=\"https://dcl.dev.looker.com/dashboards/943?filter=filter_value\"` \n",
        "2. Update variables to fit your use-case/context\n",
        "  - fields up to the **Create Body Parameter** section are *editable*\n",
        "  - hit run after we've defined all our parameters\n"
      ]
    },
    {
      "cell_type": "markdown",
      "metadata": {
        "id": "Tx9-33YQWFoG"
      },
      "source": [
        "# Lookerv718"
      ]
    },
    {
      "cell_type": "code",
      "metadata": {
        "colab": {
          "base_uri": "https://localhost:8080/"
        },
        "id": "ZISSGdtpeQVp",
        "outputId": "ab31e771-f1d6-45d4-81d7-eff2b6f31346"
      },
      "source": [
        "#initialize the SDK\n",
        "sdk = looker_sdk.init31(\"/content/drive/My Drive/Colab Notebooks/sandbox.ini\", section=\"looker_718\")\n",
        "# sdk = looker_sdk.init40(\"/content/drive/My Drive/Colab Notebooks/sandbox.ini\", section=\"looker_718\")  #uncomment if you want to use 4.0 version\n",
        "\n",
        "#confirm the Looker user has been initialized\n",
        "sdk.me()"
      ],
      "execution_count": null,
      "outputs": [
        {
          "output_type": "execute_result",
          "data": {
            "text/plain": [
              "User(can={'show': True, 'index': True, 'show_details': True, 'index_details': True, 'sudo': False}, avatar_url='https://gravatar.lookercdn.com/avatar/af82d5ce7da82911b2ff446dd7d3e67c?s=156&d=blank', avatar_url_without_sizing='https://gravatar.lookercdn.com/avatar/af82d5ce7da82911b2ff446dd7d3e67c?d=blank', credentials_api3=[CredentialsApi3(can={}, id=48, client_id='trwZVpyT2Qq2KsFVtQV6', created_at='2020-10-23T21:10:29.136+00:00', is_disabled=False, type='api3', url='https://localhost:19999/api/3.1/users/464/credentials_api3/48')], credentials_email=None, credentials_embed=[], credentials_google=None, credentials_ldap=None, credentials_looker_openid=None, credentials_oidc=None, credentials_saml=CredentialsSaml(can={}, created_at='2020-08-03T18:13:42.091+00:00', email='alick.zhang@looker.com', is_disabled=False, logged_in_at='2020-11-18T18:17:17.495+00:00', saml_user_id='alick.zhang@looker.com', type='saml', url='https://localhost:19999/api/3.1/users/464/credentials_saml'), credentials_totp=None, display_name='Alick Zhang', email='alick.zhang@looker.com', embed_group_space_id=None, first_name='Alick', group_ids=[1, 18], home_space_id='1', home_folder_id='1', id=464, is_disabled=False, last_name='Zhang', locale='en', looker_versions=['7.12.17', '7.12.18', '7.14.12', '7.14.13', '7.14.9', '7.18.12', '7.18.19', '7.18.20', '7.18.21', '7.18.23', '7.18.29'], models_dir_validated=False, personal_space_id=527, personal_folder_id=527, presumed_looker_employee=True, role_ids=[2], sessions=[Session(can={}, id=11186, ip_address='75.84.49.187', browser='Chrome', operating_system='OS X 10.15.3', city=None, state=None, country=None, credentials_type='saml', extended_at=None, extended_count=0, sudo_user_id=None, created_at='2020-10-23T20:55:03.356+00:00', expires_at='2020-11-22T20:55:03.354+00:00', url='https://localhost:19999/api/3.1/users/464/sessions/11186'), Session(can={}, id=11193, ip_address='75.84.49.187', browser='Chrome', operating_system='OS X 10.15.3', city=None, state=None, country=None, credentials_type='saml', extended_at=None, extended_count=0, sudo_user_id=None, created_at='2020-10-23T21:26:50.485+00:00', expires_at='2020-11-22T21:26:50.483+00:00', url='https://localhost:19999/api/3.1/users/464/sessions/11193'), Session(can={}, id=11197, ip_address='75.84.49.187', browser='Chrome', operating_system='OS X 10.15.3', city=None, state=None, country=None, credentials_type='saml', extended_at=None, extended_count=0, sudo_user_id=None, created_at='2020-10-23T21:40:48.606+00:00', expires_at='2020-11-22T21:40:48.604+00:00', url='https://localhost:19999/api/3.1/users/464/sessions/11197'), Session(can={}, id=12395, ip_address='75.84.49.187', browser='Chrome', operating_system='OS X 10.15.3', city=None, state=None, country=None, credentials_type='saml', extended_at=None, extended_count=0, sudo_user_id=None, created_at='2020-11-03T23:03:13.217+00:00', expires_at='2020-12-03T23:03:13.214+00:00', url='https://localhost:19999/api/3.1/users/464/sessions/12395'), Session(can={}, id=12627, ip_address='75.84.49.187', browser='Chrome', operating_system='OS X 10.15.3', city=None, state=None, country=None, credentials_type='saml', extended_at=None, extended_count=0, sudo_user_id=None, created_at='2020-11-05T20:03:35.140+00:00', expires_at='2020-12-05T20:03:35.138+00:00', url='https://localhost:19999/api/3.1/users/464/sessions/12627'), Session(can={}, id=13047, ip_address='75.84.49.187', browser='Chrome', operating_system='OS X 10.15.3', city=None, state=None, country=None, credentials_type='saml', extended_at=None, extended_count=0, sudo_user_id=None, created_at='2020-11-09T17:50:25.975+00:00', expires_at='2020-12-09T17:50:25.973+00:00', url='https://localhost:19999/api/3.1/users/464/sessions/13047'), Session(can={}, id=13054, ip_address='75.84.49.187', browser='Chrome', operating_system='OS X 10.15.3', city=None, state=None, country=None, credentials_type='saml', extended_at=None, extended_count=0, sudo_user_id=None, created_at='2020-11-09T18:30:51.421+00:00', expires_at='2020-12-09T18:30:51.419+00:00', url='https://localhost:19999/api/3.1/users/464/sessions/13054'), Session(can={}, id=13084, ip_address='75.84.49.187', browser='Chrome', operating_system='OS X 10.15.3', city=None, state=None, country=None, credentials_type='saml', extended_at=None, extended_count=0, sudo_user_id=None, created_at='2020-11-09T21:29:46.580+00:00', expires_at='2020-12-09T21:29:46.578+00:00', url='https://localhost:19999/api/3.1/users/464/sessions/13084'), Session(can={}, id=13302, ip_address='75.84.49.187', browser='Chrome', operating_system='OS X 10.15.3', city=None, state=None, country=None, credentials_type='saml', extended_at=None, extended_count=0, sudo_user_id=None, created_at='2020-11-11T17:05:07.962+00:00', expires_at='2020-12-11T17:05:07.960+00:00', url='https://localhost:19999/api/3.1/users/464/sessions/13302'), Session(can={}, id=14227, ip_address='75.84.49.187', browser='Chrome', operating_system='OS X 10.15.3', city=None, state=None, country=None, credentials_type='saml', extended_at=None, extended_count=0, sudo_user_id=None, created_at='2020-11-18T18:17:17.535+00:00', expires_at='2020-12-18T18:17:17.514+00:00', url='https://localhost:19999/api/3.1/users/464/sessions/14227')], ui_state={'homepageGroupIdPreference': 1, 'homepagePopularGroupIdPreference': 1}, verified_looker_employee=False, roles_externally_managed=False, allow_direct_roles=True, allow_normal_group_membership=True, allow_roles_from_normal_groups=True, url='https://localhost:19999/api/3.1/users/464')"
            ]
          },
          "metadata": {
            "tags": []
          },
          "execution_count": 8
        }
      ]
    },
    {
      "cell_type": "markdown",
      "metadata": {
        "id": "t8FgwS2MWNSZ"
      },
      "source": [
        "## Dashboard"
      ]
    },
    {
      "cell_type": "code",
      "metadata": {
        "colab": {
          "base_uri": "https://localhost:8080/"
        },
        "id": "KgKeAxRTx9kD",
        "outputId": "5d79bf86-48e1-43f0-c5cf-ed57018e79d1"
      },
      "source": [
        "url=\"https://lookerv718.dev.looker.com/dashboards-next/417?embed_domain=http://localhost:8081&sdk=2\"    \n",
        "force_logout = True                                                 #boolean\n",
        "session_length = 25000000                                           #number in seconds\n",
        "external_user_id = 3                                                #int or string\n",
        "first_name = \"Embed Sandbox Alick\"                                    #string\n",
        "last_name = \"Embed Sandbox Zhang\"                                      #string\n",
        "groups = [3]                                                        #list of numbers\n",
        "external_group_id = 2                                               #int or string\n",
        "\n",
        "########################################## ALL PERMISSIONS ########################################################################################\n",
        "# access_data\", \"see_lookml_dashboards\", \"see_looks\", \"see_user_dashboards\", \"explore\", \"create_table_calculations\", see_system_activity\",        #\n",
        "# \"save_content\", \"send_outgoing_webhook\", \"send_to_s3\", \"send_to_sftp\", \"schedule_look_emails\", \"schedule_external_look_emails\",                 #\n",
        "# \"send_to_integration\", \"create_alerts\", \"download_with_limit\", \"download_without_limit\", \"see_sql\", \"see_drill_overlay\", \"embed_browse_spaces\"  #\n",
        "###################################################################################################################################################\n",
        "\n",
        "permissions = (['access_data',                                        #list of string(s)\n",
        "                'see_user_dashboards',\n",
        "                \"embed_browse_spaces\", \n",
        "                \"explore\", \n",
        "                \"see_lookml_dashboards\",\n",
        "                \"save_content\", \n",
        "                \"see_looks\", \n",
        "                \"see_system_activity\"]) \n",
        "\n",
        "model = [\"dcl-sandbox-embed\"]                                         #list of string(s)\n",
        "user_attributes = {\"embed_ua1\": \"tester\", \"embed_ua2\": \"tester2\"}     #dictionary\n",
        "user_timezone = \"America/New_York\"                                    #string - https://docs.looker.com/reference/embedding/timezones\n",
        "\n",
        "#################### Create Body Parameter ############################\n",
        "bod = models.EmbedSsoParams(target_url= url, \n",
        "                      external_user_id = external_user_id,\n",
        "                      first_name = first_name,\n",
        "                      last_name = last_name,\n",
        "                      group_ids = groups,\n",
        "                      external_group_id = external_group_id,\n",
        "                      permissions = permissions,\n",
        "                      models = model,\n",
        "                      user_attributes = user_attributes,\n",
        "                      user_timezone = user_timezone,\n",
        "                      force_logout_login = force_logout)\n",
        "\n",
        "embed_url = sdk.create_sso_embed_url(bod).url \n",
        "print(embed_url)"
      ],
      "execution_count": null,
      "outputs": [
        {
          "output_type": "stream",
          "text": [
            "https://lookerv718.dev.looker.com/login/embed/%2Fembed%2Fdashboards-next%2F417%3Fembed_domain%3Dhttp%3A%2F%2Flocalhost%3A8081%26sdk%3D2?permissions=%5B%22access_data%22%2C%22see_user_dashboards%22%2C%22embed_browse_spaces%22%2C%22explore%22%2C%22see_lookml_dashboards%22%2C%22save_content%22%2C%22see_looks%22%2C%22see_system_activity%22%5D&models=%5B%22dcl-sandbox-embed%22%5D&signature=6oszYAQWJanAplZLSHUbIRWXAsg%3D&nonce=%220360b03e294cc0bd64ef08899f8463e1%22&time=1605479020&session_length=300&external_user_id=3&access_filters=%7B%7D&first_name=%22Embed+Sandbox+Alick%22&last_name=%22Embed+Sandbox+Zhang%22&force_logout_login=true&user_timezone=%22America%2FNew_York%22&group_ids=%5B3%5D&external_group_id=2&user_attributes=%7B%22embed_ua1%22%3A%22tester%22%2C%22embed_ua2%22%3A%22tester2%22%7D\n"
          ],
          "name": "stdout"
        }
      ]
    },
    {
      "cell_type": "markdown",
      "metadata": {
        "id": "hpdX2g6yYR6t"
      },
      "source": [
        "## Look"
      ]
    },
    {
      "cell_type": "code",
      "metadata": {
        "colab": {
          "base_uri": "https://localhost:8080/"
        },
        "id": "vc4-I36GYQ6u",
        "outputId": "95992ec0-8020-49cb-fc07-28a6a9b69957"
      },
      "source": [
        "url=\"https://lookerv718.dev.looker.com/looks/843?embed_domain=http://localhost:8081&sdk=2\"    \n",
        "force_logout = True                                                 #boolean\n",
        "session_length = 25000000                                           #number in seconds\n",
        "external_user_id = 3                                                #int or string\n",
        "first_name = \"Embed Sandbox Alick\",                                    #string\n",
        "last_name = \"Embed Sandbox Zhang\"                                      #string\n",
        "groups = [3]                                                        #list of numbers\n",
        "external_group_id = 2                                               #int or string\n",
        "\n",
        "########################################## ALL PERMISSIONS ########################################################################################\n",
        "# access_data\", \"see_lookml_dashboards\", \"see_looks\", \"see_user_dashboards\", \"explore\", \"create_table_calculations\", see_system_activity\",        #\n",
        "# \"save_content\", \"send_outgoing_webhook\", \"send_to_s3\", \"send_to_sftp\", \"schedule_look_emails\", \"schedule_external_look_emails\",                 #\n",
        "# \"send_to_integration\", \"create_alerts\", \"download_with_limit\", \"download_without_limit\", \"see_sql\", \"see_drill_overlay\", \"embed_browse_spaces\"  #\n",
        "###################################################################################################################################################\n",
        "\n",
        "permissions = (['access_data',                                        #list of string(s)\n",
        "                'see_user_dashboards',\n",
        "                \"embed_browse_spaces\", \n",
        "                \"explore\", \n",
        "                \"see_lookml_dashboards\",\n",
        "                \"save_content\", \n",
        "                \"see_looks\", \n",
        "                \"see_system_activity\"]) \n",
        "\n",
        "model = [\"dcl-sandbox-embed\"]                                         #list of string(s)\n",
        "user_attributes = {\"embed_ua1\": \"tester\", \"embed_ua2\": \"tester2\"}     #dictionary\n",
        "user_timezone = \"America/New_York\"                                    #string - https://docs.looker.com/reference/embedding/timezones\n",
        "\n",
        "#################### Create Body Parameter ############################\n",
        "bod = models.EmbedSsoParams(target_url= url, \n",
        "                      external_user_id = external_user_id,\n",
        "                      first_name = first_name,\n",
        "                      last_name = last_name,\n",
        "                      group_ids = groups,\n",
        "                      external_group_id = external_group_id,\n",
        "                      permissions = permissions,\n",
        "                      models = model,\n",
        "                      user_attributes = user_attributes,\n",
        "                      user_timezone = user_timezone,\n",
        "                      force_logout_login = force_logout)\n",
        "\n",
        "embed_url = sdk.create_sso_embed_url(bod).url \n",
        "print(embed_url)"
      ],
      "execution_count": null,
      "outputs": [
        {
          "output_type": "stream",
          "text": [
            "https://lookerv718.dev.looker.com/login/embed/%2Fembed%2Flooks%2F843%3Fembed_domain%3Dhttp%3A%2F%2Flocalhost%3A8081%26sdk%3D2?permissions=%5B%22access_data%22%2C%22see_user_dashboards%22%2C%22embed_browse_spaces%22%2C%22explore%22%2C%22see_lookml_dashboards%22%2C%22save_content%22%2C%22see_looks%22%2C%22see_system_activity%22%5D&models=%5B%22dcl-sandbox-embed%22%5D&signature=0chcSp%2BtHMREOAjj9txy4goZ1%2BU%3D&nonce=%22e1966b650ae0b35fc7a8d9dfeeafcefd%22&time=1604968152&session_length=300&external_user_id=3&access_filters=%7B%7D&first_name=%5B%22Embed+Sandbox+Alick%22%5D&last_name=%22Embed+Sandbox+Zhang%22&force_logout_login=true&user_timezone=%22America%2FNew_York%22&group_ids=%5B3%5D&external_group_id=2&user_attributes=%7B%22embed_ua1%22%3A%22tester%22%2C%22embed_ua2%22%3A%22tester2%22%7D\n"
          ],
          "name": "stdout"
        }
      ]
    },
    {
      "cell_type": "markdown",
      "metadata": {
        "id": "VsYX3zkjWExT"
      },
      "source": [
        "## Explore"
      ]
    },
    {
      "cell_type": "code",
      "metadata": {
        "colab": {
          "base_uri": "https://localhost:8080/"
        },
        "id": "Kp3eNGhYWYrh",
        "outputId": "743d9dfe-a81c-4c3d-a9da-44470ac14130"
      },
      "source": [
        "url=\"https://lookerv718.dev.looker.com/explore/dcl-sandbox-embed/order_items?embed_domain=http://localhost:8081&sdk=2\"    \n",
        "force_logout = True                                                 #boolean\n",
        "session_length = 25000000                                           #number in seconds\n",
        "external_user_id = 3                                                #int or string\n",
        "first_name = \"Embed Sandbox Alick\",                                    #string\n",
        "last_name = \"Embed Sandbox Zhang\"                                      #string\n",
        "groups = [3]                                                        #list of numbers\n",
        "external_group_id = 2                                               #int or string\n",
        "\n",
        "########################################## ALL PERMISSIONS ########################################################################################\n",
        "# access_data\", \"see_lookml_dashboards\", \"see_looks\", \"see_user_dashboards\", \"explore\", \"create_table_calculations\", see_system_activity\",        #\n",
        "# \"save_content\", \"send_outgoing_webhook\", \"send_to_s3\", \"send_to_sftp\", \"schedule_look_emails\", \"schedule_external_look_emails\",                 #\n",
        "# \"send_to_integration\", \"create_alerts\", \"download_with_limit\", \"download_without_limit\", \"see_sql\", \"see_drill_overlay\", \"embed_browse_spaces\"  #\n",
        "###################################################################################################################################################\n",
        "\n",
        "permissions = (['access_data',                                        #list of string(s)\n",
        "                'see_user_dashboards',\n",
        "                \"embed_browse_spaces\", \n",
        "                \"explore\", \n",
        "                \"see_lookml_dashboards\",\n",
        "                \"save_content\", \n",
        "                \"see_looks\", \n",
        "                \"see_system_activity\"]) \n",
        "\n",
        "model = [\"dcl-sandbox-embed\"]                                         #list of string(s)\n",
        "user_attributes = {\"embed_ua1\": \"tester\", \"embed_ua2\": \"tester2\"}     #dictionary\n",
        "user_timezone = \"America/New_York\"                                    #string - https://docs.looker.com/reference/embedding/timezones\n",
        "\n",
        "#################### Create Body Parameter ############################\n",
        "bod = models.EmbedSsoParams(target_url= url, \n",
        "                      external_user_id = external_user_id,\n",
        "                      first_name = first_name,\n",
        "                      last_name = last_name,\n",
        "                      group_ids = groups,\n",
        "                      external_group_id = external_group_id,\n",
        "                      permissions = permissions,\n",
        "                      models = model,\n",
        "                      user_attributes = user_attributes,\n",
        "                      user_timezone = user_timezone,\n",
        "                      force_logout_login = force_logout)\n",
        "\n",
        "embed_url = sdk.create_sso_embed_url(bod).url \n",
        "print(embed_url)"
      ],
      "execution_count": null,
      "outputs": [
        {
          "output_type": "stream",
          "text": [
            "https://lookerv718.dev.looker.com/login/embed/%2Fembed%2Fexplore%2Fdcl-sandbox-embed%2Forder_items%3Fembed_domain%3Dhttp%3A%2F%2Flocalhost%3A8081%26sdk%3D2?permissions=%5B%22access_data%22%2C%22see_user_dashboards%22%2C%22embed_browse_spaces%22%2C%22explore%22%2C%22see_lookml_dashboards%22%2C%22save_content%22%2C%22see_looks%22%2C%22see_system_activity%22%5D&models=%5B%22dcl-sandbox-embed%22%5D&signature=gnBs%2FEWBcGbX24YHWgzW9EaL6EY%3D&nonce=%2281392761c18b900d0553a67ce8da44ff%22&time=1604950005&session_length=300&external_user_id=3&access_filters=%7B%7D&first_name=%5B%22Embed+Sandbox+Alick%22%5D&last_name=%22Embed+Sandbox+Zhang%22&force_logout_login=true&user_timezone=%22America%2FNew_York%22&group_ids=%5B3%5D&external_group_id=2&user_attributes=%7B%22embed_ua1%22%3A%22tester%22%2C%22embed_ua2%22%3A%22tester2%22%7D\n"
          ],
          "name": "stdout"
        }
      ]
    },
    {
      "cell_type": "markdown",
      "metadata": {
        "id": "_QBV-wSBTKde"
      },
      "source": [
        "# DCL Dev Instance"
      ]
    },
    {
      "cell_type": "code",
      "metadata": {
        "colab": {
          "base_uri": "https://localhost:8080/"
        },
        "id": "N0lSihu6TPKm",
        "outputId": "111a6299-7810-4a2e-8c72-e0050cda436d"
      },
      "source": [
        "#initialize the SDK\n",
        "sdk = looker_sdk.init31(\"/content/drive/My Drive/Colab Notebooks/sandbox.ini\", section=\"dcl_dev\")\n",
        "# sdk = looker_sdk.init40(/content/drive/My Drive/Colab Notebooks/sandbox.ini, section=\"looker_718\")  #uncomment if you want to use 4.0 version\n",
        "\n",
        "#confirm the Looker user has been initialized\n",
        "sdk.me()"
      ],
      "execution_count": null,
      "outputs": [
        {
          "output_type": "execute_result",
          "data": {
            "text/plain": [
              "User(can={'show': True, 'index': True, 'show_details': True, 'index_details': True, 'sudo': False}, avatar_url='https://lh6.googleusercontent.com/-i4GsuCk0Dr4/AAAAAAAAAAI/AAAAAAAAAAA/AMZuuckferqVKym4w4t69LCRzNNdjzsgnQ/s96-c/photo.jpg', avatar_url_without_sizing='https://lh6.googleusercontent.com/-i4GsuCk0Dr4/AAAAAAAAAAI/AAAAAAAAAAA/AMZuuckferqVKym4w4t69LCRzNNdjzsgnQ/s96-c/photo.jpg', credentials_api3=[CredentialsApi3(can={}, id=20, client_id='JS2YnMYkkCV2FVzYDGJt', created_at='2018-08-03T00:53:51.000+00:00', is_disabled=False, type='api3', url='https://localhost:19999/api/3.1/users/170/credentials_api3/20')], credentials_email=None, credentials_embed=[], credentials_google=CredentialsGoogle(can={}, created_at='2018-06-22T20:22:50.000+00:00', domain='looker.com', email='alick.zhang@looker.com', google_user_id='116791074469798104327', is_disabled=False, logged_in_at='2020-11-11T19:27:12.000+00:00', type='google', url='https://localhost:19999/api/3.1/users/170/credentials_google'), credentials_ldap=None, credentials_looker_openid=None, credentials_oidc=None, credentials_saml=None, credentials_totp=None, display_name='Alick Zhang', email='alick.zhang@looker.com', embed_group_space_id=None, first_name='Alick', group_ids=[1, 83], home_space_id='15', home_folder_id='15', id=170, is_disabled=False, last_name='Zhang', locale='en', looker_versions=['5.16.12', '5.18.11', '5.18.13', '5.18.2', '5.18.5', '5.18.8', '5.20.1', '5.20.11', '5.20.3', '5.20.4', '5.20.5', '5.20.6', '5.20.7', '5.22.10', '5.22.3', '5.22.6', '5.22.8', '5.24.4', '5.24.7', '6.22.10', '6.22.11', '6.22.12', '6.22.5', '6.24.11', '7.0.16', '7.10.0', '7.10.1', '7.10.10', '7.10.11', '7.10.12', '7.10.13', '7.10.14', '7.10.16', '7.10.17', '7.10.18', '7.10.19', '7.10.2', '7.10.20', '7.10.21', '7.10.3', '7.10.4', '7.10.5', '7.10.7', '7.10.8', '7.10.9', '7.12.0', '7.12.1', '7.12.11', '7.12.12', '7.12.13', '7.12.14', '7.12.15', '7.12.16', '7.12.17', '7.12.18', '7.12.2', '7.12.3', '7.12.4', '7.12.5', '7.12.6', '7.12.7', '7.12.8', '7.12.9', '7.14.0', '7.14.1', '7.14.12', '7.14.13', '7.14.14', '7.14.15', '7.14.16', '7.14.17', '7.14.18', '7.14.2', '7.14.3', '7.14.4', '7.14.6', '7.14.7', '7.14.8', '7.14.9', '7.16.0', '7.16.1', '7.16.10', '7.16.12', '7.16.13', '7.16.14', '7.16.15', '7.16.16', '7.16.18', '7.16.19', '7.16.2', '7.16.23', '7.16.24', '7.16.25', '7.16.3', '7.16.4', '7.16.5', '7.16.6', '7.16.7', '7.16.8', '7.16.9', '7.18.0', '7.18.1', '7.18.10', '7.18.11', '7.18.12', '7.18.16', '7.18.19', '7.18.2', '7.18.20', '7.18.3', '7.18.4', '7.18.7', '7.18.9', '7.2.10', '7.2.11', '7.2.16', '7.2.2', '7.2.3', '7.2.4', '7.2.9', '7.20.0', '7.20.1', '7.20.3', '7.20.4', '7.20.5', '7.20.6', '7.20.7', '7.4.12', '7.4.17', '7.4.20', '7.4.21', '7.4.23', '7.4.3', '7.4.5', '7.4.6', '7.4.7', '7.4.9', '7.6.10', '7.6.11', '7.6.13', '7.6.14', '7.6.15', '7.6.16', '7.6.17', '7.6.18', '7.6.19', '7.6.20', '7.6.4', '7.6.5', '7.6.6', '7.6.7', '7.6.9', '7.8.0', '7.8.1', '7.8.10', '7.8.11', '7.8.12', '7.8.13', '7.8.14', '7.8.15', '7.8.16', '7.8.17', '7.8.2', '7.8.4', '7.8.5', '7.8.6', '7.8.7', '7.8.8', '7.8.9'], models_dir_validated=True, personal_space_id=211, personal_folder_id=211, presumed_looker_employee=True, role_ids=[2], sessions=[Session(can={}, id=65594, ip_address='75.84.49.187', browser='Chrome', operating_system='OS X 10.15.3', city=None, state=None, country=None, credentials_type='google', extended_at=None, extended_count=0, sudo_user_id=None, created_at='2020-10-23T16:05:42.000+00:00', expires_at='2020-11-22T16:05:42.000+00:00', url='https://localhost:19999/api/3.1/users/170/sessions/65594'), Session(can={}, id=65641, ip_address='75.84.49.187', browser='Chrome', operating_system='OS X 10.15.3', city=None, state=None, country=None, credentials_type='google', extended_at=None, extended_count=0, sudo_user_id=None, created_at='2020-10-23T18:55:26.000+00:00', expires_at='2020-11-22T18:55:26.000+00:00', url='https://localhost:19999/api/3.1/users/170/sessions/65641'), Session(can={}, id=65655, ip_address='75.84.49.187', browser='Chrome', operating_system='OS X 10.15.3', city=None, state=None, country=None, credentials_type='google', extended_at=None, extended_count=0, sudo_user_id=None, created_at='2020-10-23T19:31:46.000+00:00', expires_at='2020-11-22T19:31:46.000+00:00', url='https://localhost:19999/api/3.1/users/170/sessions/65655'), Session(can={}, id=69972, ip_address='75.84.49.187', browser='Chrome', operating_system='OS X 10.15.3', city=None, state=None, country=None, credentials_type='google', extended_at=None, extended_count=0, sudo_user_id=None, created_at='2020-11-09T21:28:57.000+00:00', expires_at='2020-12-09T21:28:57.000+00:00', url='https://localhost:19999/api/3.1/users/170/sessions/69972'), Session(can={}, id=70542, ip_address='75.84.49.187', browser='Chrome', operating_system='OS X 10.15.3', city=None, state=None, country=None, credentials_type='google', extended_at=None, extended_count=0, sudo_user_id=None, created_at='2020-11-11T19:27:12.000+00:00', expires_at='2020-12-11T19:27:12.000+00:00', url='https://localhost:19999/api/3.1/users/170/sessions/70542')], ui_state={'homepageGroupIdPreference': 1, 'dismissedDialogs': ['enable-homepage-banner'], 'spacesSidebarCollapsed': False}, verified_looker_employee=False, roles_externally_managed=False, allow_direct_roles=True, allow_normal_group_membership=True, allow_roles_from_normal_groups=True, url='https://localhost:19999/api/3.1/users/170')"
            ]
          },
          "metadata": {
            "tags": []
          },
          "execution_count": 21
        }
      ]
    },
    {
      "cell_type": "code",
      "metadata": {
        "colab": {
          "base_uri": "https://localhost:8080/"
        },
        "id": "JmqwPkB_UAAv",
        "outputId": "ee7890e5-de8e-43ba-ee6e-ee81652028de"
      },
      "source": [
        "url=\"https://dcl.dev.looker.com/dashboards-next/748?embed_domain=http://localhost:8081&sdk=2\"    \n",
        "force_logout = True                                                 #boolean\n",
        "session_length = 25000000                                           #number in seconds\n",
        "external_user_id = 3                                                #int or string\n",
        "first_name = \"Embed Sandbox Alick\",                                    #string\n",
        "last_name = \"Embed Sandbox Zhang\"                                      #string\n",
        "groups = [3]                                                        #list of numbers\n",
        "external_group_id = 2                                               #int or string\n",
        "\n",
        "########################################## ALL PERMISSIONS ########################################################################################\n",
        "# access_data\", \"see_lookml_dashboards\", \"see_looks\", \"see_user_dashboards\", \"explore\", \"create_table_calculations\", see_system_activity\",        #\n",
        "# \"save_content\", \"send_outgoing_webhook\", \"send_to_s3\", \"send_to_sftp\", \"schedule_look_emails\", \"schedule_external_look_emails\",                 #\n",
        "# \"send_to_integration\", \"create_alerts\", \"download_with_limit\", \"download_without_limit\", \"see_sql\", \"see_drill_overlay\", \"embed_browse_spaces\"  #\n",
        "###################################################################################################################################################\n",
        "\n",
        "permissions = (['access_data',                                        #list of string(s)\n",
        "                'see_user_dashboards',\n",
        "                \"embed_browse_spaces\", \n",
        "                \"explore\", \n",
        "                \"see_lookml_dashboards\",\n",
        "                \"save_content\", \n",
        "                \"see_looks\", \n",
        "                \"see_system_activity\"]) \n",
        "\n",
        "model = [\"thelook\", \"access\"]                                         #list of string(s)\n",
        "user_attributes = {\"embed_ua1\": \"tester\", \"embed_ua2\": \"tester2\"}     #dictionary\n",
        "user_timezone = \"America/New_York\"                                    #string - https://docs.looker.com/reference/embedding/timezones\n",
        "\n",
        "#################### Create Body Parameter ############################\n",
        "bod = models.EmbedSsoParams(target_url= url, \n",
        "                      external_user_id = external_user_id,\n",
        "                      first_name = first_name,\n",
        "                      last_name = last_name,\n",
        "                      group_ids = groups,\n",
        "                      external_group_id = external_group_id,\n",
        "                      permissions = permissions,\n",
        "                      models = model,\n",
        "                      user_attributes = user_attributes,\n",
        "                      user_timezone = user_timezone,\n",
        "                      force_logout_login = force_logout)\n",
        "\n",
        "embed_url = sdk.create_sso_embed_url(bod).url \n",
        "print(embed_url)"
      ],
      "execution_count": null,
      "outputs": [
        {
          "output_type": "stream",
          "text": [
            "https://dcl.dev.looker.com/login/embed/%2Fembed%2Fdashboards-next%2F748%3Fembed_domain%3Dhttp%3A%2F%2Flocalhost%3A8081%26sdk%3D2?permissions=%5B%22access_data%22%2C%22see_user_dashboards%22%2C%22embed_browse_spaces%22%2C%22explore%22%2C%22see_lookml_dashboards%22%2C%22save_content%22%2C%22see_looks%22%2C%22see_system_activity%22%5D&models=%5B%22thelook%22%2C%22access%22%5D&signature=ieghE09em2MdhxULhh3VlsWv9FY%3D&nonce=%225e199df93834a3450e76e94a132cd54a%22&time=1604949937&session_length=300&external_user_id=3&access_filters=%7B%7D&first_name=%5B%22Embed+Sandbox+Alick%22%5D&last_name=%22Embed+Sandbox+Zhang%22&force_logout_login=true&user_timezone=%22America%2FNew_York%22&group_ids=%5B3%5D&external_group_id=2&user_attributes=%7B%22embed_ua1%22%3A%22tester%22%2C%22embed_ua2%22%3A%22tester2%22%7D\n"
          ],
          "name": "stdout"
        }
      ]
    },
    {
      "cell_type": "markdown",
      "metadata": {
        "id": "0yW9PZbHYMk8"
      },
      "source": [
        "## Look"
      ]
    },
    {
      "cell_type": "code",
      "metadata": {
        "id": "Dw7Q7AcHqood"
      },
      "source": [
        "import os\n",
        "import webbrowser\n",
        "\n",
        "# html = '<html> ...  generated html string ...</html>'\n",
        "path = os.path.abspath('temp.html')\n",
        "url = 'file://' + path\n"
      ],
      "execution_count": null,
      "outputs": []
    },
    {
      "cell_type": "code",
      "metadata": {
        "colab": {
          "base_uri": "https://localhost:8080/"
        },
        "id": "uLx34O5SnK8O",
        "outputId": "f58cc366-ddb3-4b7b-f090-de52ebf8ec1b"
      },
      "source": [
        "url=\"https://lookerv718.dev.looker.com/dashboards-next/417?embed_domain=http://localhost:8081&sdk=2\"    \n",
        "force_logout_login = True                                           #boolean\n",
        "session_length = 25000000                                           #number in seconds\n",
        "external_user_id = 3                                                #int or string\n",
        "first_name = \"Embed Sandbox Alick\",                                    #string\n",
        "last_name = \"Embed Sandbox Zhang\"                                      #string\n",
        "group_ids = [3]                                                        #list of numbers\n",
        "external_group_id = 2                                               #int or string\n",
        "\n",
        "########################################## ALL PERMISSIONS ########################################################################################\n",
        "# access_data\", \"see_lookml_dashboards\", \"see_looks\", \"see_user_dashboards\", \"explore\", \"create_table_calculations\", see_system_activity\",        #\n",
        "# \"save_content\", \"send_outgoing_webhook\", \"send_to_s3\", \"send_to_sftp\", \"schedule_look_emails\", \"schedule_external_look_emails\",                 #\n",
        "# \"send_to_integration\", \"create_alerts\", \"download_with_limit\", \"download_without_limit\", \"see_sql\", \"see_drill_overlay\", \"embed_browse_spaces\"  #\n",
        "###################################################################################################################################################\n",
        "\n",
        "permissions = (['access_data',                                        #list of string(s)\n",
        "                'see_user_dashboards',\n",
        "                \"embed_browse_spaces\", \n",
        "                \"explore\", \n",
        "                \"see_lookml_dashboards\",\n",
        "                \"save_content\", \n",
        "                \"see_looks\", \n",
        "                \"see_system_activity\"]) \n",
        "\n",
        "model = [\"dcl-sandbox-embed\"]                                         #list of string(s)\n",
        "user_attributes = {\"embed_ua1\": \"tester\", \"embed_ua2\": \"tester2\"}     #dictionary\n",
        "user_timezone = \"America/New_York\"                                    #string - https://docs.looker.com/reference/embedding/timezones\n",
        "\n",
        "def construct_sso_url(url, external_user_id, first_name, last_name, group_ids, external_group_id, permissions, model, user_attributes, user_timezone, force_logout_login):\n",
        "  bod = models.EmbedSsoParams(target_url= url, \n",
        "                      external_user_id = external_user_id,\n",
        "                      first_name = first_name,\n",
        "                      last_name = last_name,\n",
        "                      group_ids = group_ids,\n",
        "                      external_group_id = external_group_id,\n",
        "                      permissions = permissions,\n",
        "                      models = model,\n",
        "                      user_attributes = user_attributes,\n",
        "                      user_timezone = user_timezone,\n",
        "                      force_logout_login = force_logout)\n",
        "\n",
        "  embed_url = sdk.create_sso_embed_url(bod).url \n",
        "  print(embed_url)\n",
        "\n",
        "construct_sso_url(url, external_user_id, first_name, last_name, group_ids, external_group_id, permissions, model, user_attributes, user_timezone, force_logout_login)"
      ],
      "execution_count": null,
      "outputs": [
        {
          "output_type": "stream",
          "text": [
            "https://lookerv718.dev.looker.com/login/embed/%2Fembed%2Fdashboards-next%2F417%3Fembed_domain%3Dhttp%3A%2F%2Flocalhost%3A8081%26sdk%3D2?permissions=%5B%22access_data%22%2C%22see_user_dashboards%22%2C%22embed_browse_spaces%22%2C%22explore%22%2C%22see_lookml_dashboards%22%2C%22save_content%22%2C%22see_looks%22%2C%22see_system_activity%22%5D&models=%5B%22dcl-sandbox-embed%22%5D&signature=yPbiML4ho3YGpcr7wQkpp7mTL2Q%3D&nonce=%22f1123ac75d7012658e13dde9a8cf809f%22&time=1604952624&session_length=300&external_user_id=3&access_filters=%7B%7D&first_name=%5B%22Embed+Sandbox+Alick%22%5D&last_name=%22Embed+Sandbox+Zhang%22&force_logout_login=true&user_timezone=%22America%2FNew_York%22&group_ids=%5B3%5D&external_group_id=2&user_attributes=%7B%22embed_ua1%22%3A%22tester%22%2C%22embed_ua2%22%3A%22tester2%22%7D\n"
          ],
          "name": "stdout"
        }
      ]
    }
  ]
}